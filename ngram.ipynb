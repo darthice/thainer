{
 "cells": [
  {
   "cell_type": "code",
   "execution_count": 12,
   "metadata": {
    "collapsed": true
   },
   "outputs": [],
   "source": [
    "from tltk import nlp\n",
    "import tltk\n",
    "import codecs\n",
    "\n",
    "\n",
    "def run(sen):\n",
    "    test=sen#ประโยคที่ใช้ทดสอบ\n",
    "    test=tltk.nlp.word_segment(test)#ตัดคำ\n",
    "    test=test.replace(\"<s/>\",\"\")#เอา</s>ออกจากประโยค\n",
    "    #print(test)\n",
    "    sentolist(test)\n",
    "\n",
    "\n",
    "#ทำให้ประโยคจากการตัดคำกลายเป็นlist\n",
    "def sentolist(test):\n",
    "    stat=0\n",
    "    end=0\n",
    "    test_it=[]\n",
    "    for i in range(len(test)):\n",
    "        if test[i] == \"|\":\n",
    "            end=i\n",
    "            test_it.append(test[stat:end])\n",
    "            stat=i+1\n",
    "    test_it.append(test[stat:len(test)])\n",
    "    ngram(test_it)\n",
    "\n",
    "#เริ่มทำ n-gram\n",
    "def ngram(test_it):\n",
    "    #นำคำจาก custom_token มาใส่ใน token\n",
    "    with codecs.open('custom_token.txt', 'r', \"utf-8\") as f:\n",
    "        lines = f.readlines()\n",
    "    token=[e.strip() for e in lines]\n",
    "    del lines\n",
    "    f.close() # ปิดไฟล์\n",
    "    for i in range(len(test_it)-1):#ลูปตามขนาดของจำนวนคำ-1 เพราะในรอบสุดท้ายมันไม่มีคำต่อแล้ว\n",
    "        word=\"\"\n",
    "        #print(i)\n",
    "        for j in range(len(test_it)-i-1):#ลูปตามอักษรที่เหลือ-1 เพราะเราไม่เอาตัวสุดท้าย    \n",
    "            if j==0:#ถ้า word ไม่มีค่าใดให้ใส่คำจาก test_it[i] ลงไป(คำแรก)\n",
    "                word=test_it[i]\n",
    "            else:#ถ้ามีอยู่แล้วเอาคำตำแหน่งถัดไปมาต่อเพิ่ม\n",
    "                word=word+test_it[i+j]\n",
    "\n",
    "            #print(word)\n",
    "            if word in token:#ถ้าคำนี้อยู่ในพจนานุกรมของเรา\n",
    "                test_it[i]=word#เอาคำนี้ไปแทนที่คำเก่าใน test_it\n",
    "                for x in range(i+1,i+j+1):#แทนที่คำที่นำมาต่อด้วย <>\n",
    "                    #print(x)\n",
    "                    test_it[x]=\"<>\"\n",
    "                \n",
    "     #ลบ <> ออกจาก list               \n",
    "    position=[]\n",
    "    for i in range(len(test_it)):#ลบ <> ออกจาก list\n",
    "        if test_it[i]==\"<>\":\n",
    "            position.append(i)\n",
    "    position.reverse()\n",
    "    for i in position:\n",
    "        del test_it[i]\n",
    "    test_it.pop()\n",
    "\n",
    "    print(test_it)"
   ]
  }
 ],
 "metadata": {
  "kernelspec": {
   "display_name": "Python 3",
   "language": "python",
   "name": "python3"
  },
  "language_info": {
   "codemirror_mode": {
    "name": "ipython",
    "version": 3
   },
   "file_extension": ".py",
   "mimetype": "text/x-python",
   "name": "python",
   "nbconvert_exporter": "python",
   "pygments_lexer": "ipython3",
   "version": "3.6.4"
  }
 },
 "nbformat": 4,
 "nbformat_minor": 2
}
